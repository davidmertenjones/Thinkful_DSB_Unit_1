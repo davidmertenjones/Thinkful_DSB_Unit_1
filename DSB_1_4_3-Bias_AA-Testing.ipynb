{
 "cells": [
  {
   "cell_type": "markdown",
   "metadata": {},
   "source": [
    "## You're testing advertising emails for a bathing suit company and you test one version of the email in February and the other in May."
   ]
  },
  {
   "cell_type": "markdown",
   "metadata": {},
   "source": [
    "* People don't go to the beach or the pool as much in Winter as they do in late Spring.\n",
    "\n",
    "* Different versions of the email should be tested at the same time, randomly selecting the recipients of each."
   ]
  },
  {
   "cell_type": "markdown",
   "metadata": {},
   "source": [
    "## You open a clinic to treat anxiety and find that the people who visit show a higher rate of anxiety than the general population."
   ]
  },
  {
   "cell_type": "markdown",
   "metadata": {},
   "source": [
    "* The bias here is self-selection: people who choose to go to an anxiety clinic likely suffer from anxiety (or at least believe they do), and people who do not go may or may not suffer from anxiety.\n",
    "* Observer bias; only looking at skewed sample."
   ]
  },
  {
   "cell_type": "markdown",
   "metadata": {},
   "source": [
    "## You launch a new ad billboard based campaign and see an increase in website visits in the first week."
   ]
  },
  {
   "cell_type": "markdown",
   "metadata": {},
   "source": [
    "* What time of year is it?\n",
    "\n",
    "* Where are the billboards located?\n",
    "\n",
    "* Observers probably *expect* an increase in website visits, but it may not be due to the ad campaign. This could just be confirmation bias.\n",
    "\n",
    "* Unknown context"
   ]
  },
  {
   "cell_type": "markdown",
   "metadata": {},
   "source": [
    "## You launch a loyalty program but see no change in visits in the first week."
   ]
  },
  {
   "cell_type": "markdown",
   "metadata": {},
   "source": [
    "* A loyalty program usually entails rewards for repeat visits, which may not occur within the first week.\n",
    "\n",
    "* Likely, a larger sample size (in this case, a longer sample period) is needed."
   ]
  }
 ],
 "metadata": {
  "kernelspec": {
   "display_name": "Python 3",
   "language": "python",
   "name": "python3"
  },
  "language_info": {
   "codemirror_mode": {
    "name": "ipython",
    "version": 3
   },
   "file_extension": ".py",
   "mimetype": "text/x-python",
   "name": "python",
   "nbconvert_exporter": "python",
   "pygments_lexer": "ipython3",
   "version": "3.6.5"
  },
  "toc": {
   "base_numbering": 1,
   "nav_menu": {},
   "number_sections": true,
   "sideBar": true,
   "skip_h1_title": false,
   "title_cell": "Table of Contents",
   "title_sidebar": "Contents",
   "toc_cell": false,
   "toc_position": {},
   "toc_section_display": true,
   "toc_window_display": false
  }
 },
 "nbformat": 4,
 "nbformat_minor": 2
}
