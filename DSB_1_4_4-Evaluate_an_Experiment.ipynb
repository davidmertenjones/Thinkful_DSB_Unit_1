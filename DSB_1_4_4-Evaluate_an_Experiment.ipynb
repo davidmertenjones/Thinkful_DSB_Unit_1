{
 "cells": [
  {
   "cell_type": "markdown",
   "metadata": {},
   "source": [
    "## The Sith Lords are concerned that their recruiting slogan, \"Give In to Your Anger,\" isn't very effective. Darth Vader develops an alternative slogan, \"Together We Can Rule the Galaxy.\" They compare the slogans on two groups of 50 captured droids each. In one group, Emperor Palpatine delivers the \"Anger\" slogan. In the other, Darth Vader presents the \"Together\" slogan. 20 droids convert to the Dark Side after hearing Palpatine's slogan, while only 5 droids convert after hearing Vader's. The Sith's data scientist concludes that \"Anger\" is a more effective slogan and should continue to be used."
   ]
  },
  {
   "cell_type": "markdown",
   "metadata": {},
   "source": [
    "This study makes no mention of how the 100 droids were selected to be in two groups, other than there are two groups of 50 captured droids each. If the group assigned to Darth Vader is composed primarily of Rebel astromech droids and the group assigned to Emperor Palpatine is composed of assassin droids who are not aligned to the Alliance or the Empire, the droids' programming might affect their willingness to accept the slogans. Randomization may help reduce bias from improper conditional assignment.\n",
    "\n",
    "Furthermore, this comparison is probably subject to a fair amount of contextual bias. Darth Vader may not be as charismatic a speaker as Emperor Palpatine, so regardless of the potency of the slogan itself, its delivery may also be a factor. This bias may be reduced by splitting the droids into four groups rather than two, and having each Sith Lord deliver both slogans."
   ]
  },
  {
   "cell_type": "markdown",
   "metadata": {},
   "source": [
    "## In the past, the Jedi have had difficulty with public relations. They send two envoys, Jar Jar Binks and Mace Windu, to four friendly and four unfriendly planets respectively, with the goal of promoting favorable feelings toward the Jedi. Upon their return, the envoys learn that Jar Jar was much more effective than Windu: Over 75% of the people surveyed said their attitudes had become more favorable after speaking with Jar Jar, while only 65% said their attitudes had become more favorable after speaking with Windu. This makes Windu angry, because he is sure that he had a better success rate than Jar Jar on every planet. The Jedi choose Jar Jar to be their representative in the future."
   ]
  },
  {
   "cell_type": "markdown",
   "metadata": {},
   "source": [
    "This study suffers from bad sampling procedure and assignment to conditions; the Jedi cannot possibly hope to get unbiased data about the relative efficacy of two envoys by sending one envoy to friendly planets and one to unfriendly planets.\n",
    "\n",
    "This can easily be fixed by assigning each envoy two friendly and two unfriendly planets for the study."
   ]
  },
  {
   "cell_type": "markdown",
   "metadata": {},
   "source": [
    "## A company with work sites in five different countries has sent you data on employee satisfaction rates for workers in Human Resources and workers in Information Technology. Most HR workers are concentrated in three of the countries, while IT workers are equally distributed across worksites. The company requests a report on satisfaction for each job type. You calculate average job satisfaction for HR and for IT and present the report."
   ]
  },
  {
   "cell_type": "markdown",
   "metadata": {},
   "source": [
    "If most of the HR workers are concentrated in three of the countries, there may be some bias based on the samples. To avoid bias, the sample groups could be compared on a per-country basis.\n",
    "\n",
    "Also, given that HR may have an effect on work conditions and job satisfaction, the presence or absence of more HR personnel in specific countries may have an impact on the reported satisfaction for IT personnel in those locations. This sort of bias may be more difficult to account for."
   ]
  },
  {
   "cell_type": "markdown",
   "metadata": {},
   "source": [
    "## When people install the Happy Days Fitness Tracker app, they are asked to \"opt in\" to a data collection scheme where their level of physical activity data is automatically sent to the company for product research purposes. During your interview with the company, they tell you that the app is very effective because after installing the app, the data show that people's activity levels rise steadily."
   ]
  },
  {
   "cell_type": "markdown",
   "metadata": {},
   "source": [
    "People who opt in may be more motivated than those who do not. This could bias the study by selecting only subjects who were improving anyway.\n",
    "\n",
    "Since the data is gathered by the app, it may be difficult to obtain a valid A/B comparison in this study. One way to reduce bias in this study could be to use some other method of gathering data, and comparing users of the app to non-users."
   ]
  },
  {
   "cell_type": "markdown",
   "metadata": {},
   "source": [
    "## To prevent cheating, a teacher writes three versions of a test. She stacks the three versions together, first all copies of Version A, then all copies of Version B, then all copies of Version C. As students arrive for the exam, each student takes a test. When grading the test, the teacher finds that students who took Version B scored higher than students who took either Version A or Version C. She concludes from this that Version B is easier, and discards it."
   ]
  },
  {
   "cell_type": "markdown",
   "metadata": {},
   "source": [
    "The students who arrive to the exam first will pick up Version C, and those who arrive last will pick up Version A. Time of arrival isn't necessarily an indicator of studiousness, but it could be. Students who arrive late (and take Version A because it's at the bottom of the pile) might not be as dedicated to excelling in the class, so their scores might be lower because of that, not because of a gap in difficulty between B and A. With regards to Version C, which the early arrivals take, it could be that *that* version is unnecessarily difficult.\n",
    "\n",
    "The order of versions in the stack of tests should be randomized, rather than time-segmented."
   ]
  }
 ],
 "metadata": {
  "kernelspec": {
   "display_name": "Python 3",
   "language": "python",
   "name": "python3"
  },
  "language_info": {
   "codemirror_mode": {
    "name": "ipython",
    "version": 3
   },
   "file_extension": ".py",
   "mimetype": "text/x-python",
   "name": "python",
   "nbconvert_exporter": "python",
   "pygments_lexer": "ipython3",
   "version": "3.6.5"
  },
  "toc": {
   "base_numbering": 1,
   "nav_menu": {},
   "number_sections": true,
   "sideBar": true,
   "skip_h1_title": false,
   "title_cell": "Table of Contents",
   "title_sidebar": "Contents",
   "toc_cell": false,
   "toc_position": {},
   "toc_section_display": true,
   "toc_window_display": false
  }
 },
 "nbformat": 4,
 "nbformat_minor": 2
}
