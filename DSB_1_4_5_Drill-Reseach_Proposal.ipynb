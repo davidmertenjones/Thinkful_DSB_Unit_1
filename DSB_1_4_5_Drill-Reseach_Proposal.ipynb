{
 "cells": [
  {
   "cell_type": "markdown",
   "metadata": {},
   "source": [
    "## Research Proposal"
   ]
  },
  {
   "cell_type": "markdown",
   "metadata": {},
   "source": [
    "Will a new homepage improve my online exotic pet rental business?"
   ]
  },
  {
   "cell_type": "markdown",
   "metadata": {},
   "source": [
    "Rentals are slow at Polly's Pets. Polly's website was built in the early 2000s, and doesn't have the sleek appearance or easy user experience modern retail websites offer. Competitor Craig's Critters has a modern web page, and has recently expanded to four locations in the tri-city area. Polly's daughter Penny has been taking a web design course at the local community college, and offers to spruce up the old website. Polly is unsure if changing the old site will make much of a difference, so Penny decides to try an experiment, and proposes the following:"
   ]
  },
  {
   "cell_type": "markdown",
   "metadata": {},
   "source": [
    "### Problem:\n",
    "\n",
    "Pet have slowed over the last five years. The store's website is outdated, and may account for decreased rentals."
   ]
  },
  {
   "cell_type": "markdown",
   "metadata": {},
   "source": [
    "### Potential Solution:\n",
    "\n",
    "Updating the website will improve rental rates by providing a more attractive online storefront, and a smoother checkout process."
   ]
  },
  {
   "cell_type": "markdown",
   "metadata": {},
   "source": [
    "### Method of Testing:\n",
    "\n",
    "* Create a second version of the website, with updated graphics and a less convoluted \"store\" subpage.\n",
    "\n",
    "* For one month, when visitors goes to pollyspets.com, half the time, they will be redirected at random to pollys.pets, the updated page. User IP addresses will be recorded, so future visits from the same IP address will be redirected to the same page to which they were assigned on their first visit during the test period.\n",
    "\n",
    "* Record session ID information for each of the two sites, including time spent on the website, number of animals rented, and whether the user is a repeat customer.\n",
    "\n",
    "* After a month has gone by, conduct a t-test using the rental data gathered during the test period. If rentals during the test period are higher for the new page by at least 10%, shift to using the new page exclusively. If rentals are higher on the new page but the statistical tests do not show significant difference, continue observations for another month. If sales on the new page are not higher, go back to using the old page."
   ]
  }
 ],
 "metadata": {
  "kernelspec": {
   "display_name": "Python 3",
   "language": "python",
   "name": "python3"
  },
  "language_info": {
   "codemirror_mode": {
    "name": "ipython",
    "version": 3
   },
   "file_extension": ".py",
   "mimetype": "text/x-python",
   "name": "python",
   "nbconvert_exporter": "python",
   "pygments_lexer": "ipython3",
   "version": "3.6.5"
  },
  "toc": {
   "base_numbering": 1,
   "nav_menu": {},
   "number_sections": true,
   "sideBar": true,
   "skip_h1_title": false,
   "title_cell": "Table of Contents",
   "title_sidebar": "Contents",
   "toc_cell": false,
   "toc_position": {},
   "toc_section_display": true,
   "toc_window_display": false
  }
 },
 "nbformat": 4,
 "nbformat_minor": 2
}
