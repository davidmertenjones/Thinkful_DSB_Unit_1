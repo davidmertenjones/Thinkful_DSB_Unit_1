{
 "cells": [
  {
   "cell_type": "markdown",
   "metadata": {},
   "source": [
    "## Does a new supplement help people sleep better?"
   ]
  },
  {
   "cell_type": "markdown",
   "metadata": {},
   "source": [
    "* Find a volunteer group of test subjects.\n",
    "\n",
    "* Conduct physical examinations to determine relative health, interviews to determine medical history of subjects. (Look for family history of sleep apnea or other diseases that interfere with sleep.)\n",
    "\n",
    "* Randomly divide the subjects into groups.\n",
    "\n",
    "* Group A will be the test group (given the supplement), Group B will be the control group (given a placebo.)\n",
    "\n",
    "* Hypothesis: The test group will show improvements in sleep over the control group.\n",
    "\n",
    "* In-lab study: more expensive, but with better monitoring (possibly using electrodes to monitor sleep cycles)\n",
    "\n",
    "* Additionally, take a survey of subjects' experiences.\n",
    "\n",
    "* Perform t-tests to determine whether there is a difference for those taking the supplement (and if the study includes the bonus control group, determine whether there is a difference between placebo-takers and those given neither the supplement nor the placebo supplement.)"
   ]
  },
  {
   "cell_type": "markdown",
   "metadata": {},
   "source": [
    "## Will new uniforms help a gym's business?"
   ]
  },
  {
   "cell_type": "markdown",
   "metadata": {},
   "source": [
    "* Is the gym a chain?\n",
    "\n",
    "* If so:\n",
    "\n",
    "* Randomly choose different locations of the business to use either the old uniform design or the new uniform design. There must be sufficiently many locations for this to provide statistically significant results.\n",
    "\n",
    "* Gather membership sales information, sign-ups, and member attendance information from check-ins.\n",
    "\n",
    "* Compare old-uniform stores' financial and attendance data with those of pilot stores.\n",
    "\n",
    "* Key Metric: Signups, churn.\n",
    "\n",
    "* If not:\n",
    "\n",
    "* Comparison must be done using the same store, with sample periods for each of the uniform designs. This is a less reliable way of comparing uniforms, because of seasonal shifts in gym membership sales and attendance."
   ]
  },
  {
   "cell_type": "markdown",
   "metadata": {},
   "source": [
    "## Will a new homepage improve my online exotic pet rental business?"
   ]
  },
  {
   "cell_type": "markdown",
   "metadata": {},
   "source": [
    "* Randomly assign each visitor with either the old page or a redirect to the new page; use cookies to remember visitor IP addresses for future visits.\n",
    "\n",
    "* Collect information and rental records to track the performance of each respective site. Duration of the testing period will depend on how long it takes to gather sufficient samples, depending on website traffic.\n",
    "\n",
    "* Perform t-tests on data collected during testing period."
   ]
  },
  {
   "cell_type": "markdown",
   "metadata": {},
   "source": [
    "## If I put 'please read' in the email subject will more people read my emails?"
   ]
  },
  {
   "cell_type": "markdown",
   "metadata": {},
   "source": [
    "* For each outgoing email written, include or do not include 'Please read:' in the subject line, creating test (with the message) and control groups (without the message).\n",
    "\n",
    "* If read confirmation services are available, measure the rate at which emails with or without the extra message in the subject line are opened.\n",
    "\n",
    "* If read confirmation services are unavailable, measure the percentage of emails that receive a reply for each category.\n",
    "\n",
    "* Click through rate, read rate, rate of not opening.\n",
    "\n",
    "* Use statistical tests to determine whether there is a significant difference."
   ]
  },
  {
   "cell_type": "code",
   "execution_count": null,
   "metadata": {},
   "outputs": [],
   "source": []
  }
 ],
 "metadata": {
  "kernelspec": {
   "display_name": "Python 3",
   "language": "python",
   "name": "python3"
  },
  "language_info": {
   "codemirror_mode": {
    "name": "ipython",
    "version": 3
   },
   "file_extension": ".py",
   "mimetype": "text/x-python",
   "name": "python",
   "nbconvert_exporter": "python",
   "pygments_lexer": "ipython3",
   "version": "3.6.5"
  },
  "toc": {
   "base_numbering": 1,
   "nav_menu": {},
   "number_sections": true,
   "sideBar": true,
   "skip_h1_title": false,
   "title_cell": "Table of Contents",
   "title_sidebar": "Contents",
   "toc_cell": false,
   "toc_position": {},
   "toc_section_display": true,
   "toc_window_display": false
  }
 },
 "nbformat": 4,
 "nbformat_minor": 2
}
