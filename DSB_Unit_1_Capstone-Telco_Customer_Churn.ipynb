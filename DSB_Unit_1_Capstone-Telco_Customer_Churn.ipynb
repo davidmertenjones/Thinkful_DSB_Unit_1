{
 "cells": [
  {
   "cell_type": "markdown",
   "metadata": {},
   "source": [
    "# Telco Customer Churn"
   ]
  },
  {
   "cell_type": "code",
   "execution_count": 1,
   "metadata": {},
   "outputs": [],
   "source": [
    "%matplotlib inline\n",
    "import pandas as pd\n",
    "import numpy as np\n",
    "import seaborn as sns\n",
    "from matplotlib import pyplot as plt\n",
    "from scipy import stats\n",
    "from statsmodels.graphics.mosaicplot import mosaic\n",
    "\n",
    "sns.set_style('white')"
   ]
  },
  {
   "cell_type": "markdown",
   "metadata": {},
   "source": [
    "## Columns\n",
    "customer - IDCustomer ID\n",
    "\n",
    "gender - Customer gender (female, male)\n",
    "\n",
    "SeniorCitizen - Whether the customer is a senior citizen or not (1, 0)\n",
    "\n",
    "Partner - Whether the customer has a partner or not (Yes, No)\n",
    "\n",
    "Dependents - Whether the customer has dependents or not (Yes, No)\n",
    "\n",
    "tenure - Number of months the customer has stayed with the company\n",
    "\n",
    "PhoneService - Whether the customer has a phone service or not (Yes, No)\n",
    "\n",
    "MultipleLines - Whether the customer has multiple lines or not (Yes, No, No phone service)\n",
    "\n",
    "InternetService - Customer’s internet service provider (DSL, Fiber optic, No)\n",
    "\n",
    "OnlineSecurity - Whether the customer has online security or not (Yes, No, No internet service)\n",
    "\n",
    "OnlineBackup - Whether the customer has online backup or not (Yes, No, No internet service)\n",
    "\n",
    "DeviceProtection - Whether the customer has device protection or not (Yes, No, No internet service)\n",
    "\n",
    "TechSupport - Whether the customer has tech support or not (Yes, No, No internet service)\n",
    "\n",
    "StreamingTV - Whether the customer has streaming TV or not (Yes, No, No internet service)\n",
    "\n",
    "StreamingMovies - Whether the customer has streaming movies or not (Yes, No, No internet service)\n",
    "\n",
    "Contract - The contract term of the customer (Month-to-month, One year, Two year)\n",
    "\n",
    "PaperlessBilling - Whether the customer has paperless billing or not (Yes, No)\n",
    "\n",
    "PaymentMethod - The customer’s payment method (Electronic check, Mailed check, Bank transfer (automatic), Credit card (automatic))\n",
    "\n",
    "MonthlyCharges - The amount charged to the customer monthly\n",
    "\n",
    "TotalCharges - The total amount charged to the customer\n",
    "\n",
    "Churn - Whether the customer churned or not (Yes or No)"
   ]
  },
  {
   "cell_type": "code",
   "execution_count": 43,
   "metadata": {
    "scrolled": false
   },
   "outputs": [],
   "source": [
    "df = pd.read_csv('https://raw.githubusercontent.com/davidmertenjones/Thinkful_DSB_Unit_1/master/WA_Fn-UseC_-Telco-Customer-Churn.csv')\n",
    "\n",
    "df2 = df"
   ]
  },
  {
   "cell_type": "code",
   "execution_count": 44,
   "metadata": {},
   "outputs": [],
   "source": [
    "# Change \"No phone service\" and \"No internet service\" to NaN, Yes/No to 1/0\n",
    "\n",
    "df2['MultipleLines'] = df2['MultipleLines'].replace('No phone service', 'NaN')\n",
    "df2['OnlineSecurity'] = df2['OnlineSecurity'].replace('No internet service', 'NaN')\n",
    "df2['OnlineBackup'] = df2['OnlineBackup'].replace('No internet service', 'NaN')\n",
    "df2['DeviceProtection'] = df2['DeviceProtection'].replace('No internet service', 'NaN')\n",
    "df2['TechSupport'] = df2['TechSupport'].replace('No internet service', 'NaN')\n",
    "df2['StreamingTV'] = df2['StreamingTV'].replace('No internet service', 'NaN')\n",
    "df2['StreamingMovies'] = df2['StreamingMovies'].replace('No internet service', 'NaN')\n",
    "\n",
    "\n",
    "yesno = ['Partner', 'Dependents', 'PhoneService', 'PaperlessBilling', 'Churn', 'MultipleLines',\n",
    "         'OnlineSecurity', 'OnlineBackup', 'DeviceProtection',\n",
    "         'TechSupport', 'StreamingTV', 'StreamingMovies']\n",
    "\n",
    "for column in yesno:\n",
    "    df2[column] = df2[column].replace({'Yes': 1, 'No': 0})"
   ]
  },
  {
   "cell_type": "code",
   "execution_count": 45,
   "metadata": {
    "scrolled": true
   },
   "outputs": [
    {
     "data": {
      "text/html": [
       "<div>\n",
       "<style scoped>\n",
       "    .dataframe tbody tr th:only-of-type {\n",
       "        vertical-align: middle;\n",
       "    }\n",
       "\n",
       "    .dataframe tbody tr th {\n",
       "        vertical-align: top;\n",
       "    }\n",
       "\n",
       "    .dataframe thead th {\n",
       "        text-align: right;\n",
       "    }\n",
       "</style>\n",
       "<table border=\"1\" class=\"dataframe\">\n",
       "  <thead>\n",
       "    <tr style=\"text-align: right;\">\n",
       "      <th></th>\n",
       "      <th>customerID</th>\n",
       "      <th>gender</th>\n",
       "      <th>SeniorCitizen</th>\n",
       "      <th>Partner</th>\n",
       "      <th>Dependents</th>\n",
       "      <th>tenure</th>\n",
       "      <th>PhoneService</th>\n",
       "      <th>MultipleLines</th>\n",
       "      <th>InternetService</th>\n",
       "      <th>OnlineSecurity</th>\n",
       "      <th>...</th>\n",
       "      <th>DeviceProtection</th>\n",
       "      <th>TechSupport</th>\n",
       "      <th>StreamingTV</th>\n",
       "      <th>StreamingMovies</th>\n",
       "      <th>Contract</th>\n",
       "      <th>PaperlessBilling</th>\n",
       "      <th>PaymentMethod</th>\n",
       "      <th>MonthlyCharges</th>\n",
       "      <th>TotalCharges</th>\n",
       "      <th>Churn</th>\n",
       "    </tr>\n",
       "  </thead>\n",
       "  <tbody>\n",
       "    <tr>\n",
       "      <th>0</th>\n",
       "      <td>7590-VHVEG</td>\n",
       "      <td>Female</td>\n",
       "      <td>0</td>\n",
       "      <td>1</td>\n",
       "      <td>0</td>\n",
       "      <td>1</td>\n",
       "      <td>0</td>\n",
       "      <td>NaN</td>\n",
       "      <td>DSL</td>\n",
       "      <td>0</td>\n",
       "      <td>...</td>\n",
       "      <td>0</td>\n",
       "      <td>0</td>\n",
       "      <td>0</td>\n",
       "      <td>0</td>\n",
       "      <td>Month-to-month</td>\n",
       "      <td>1</td>\n",
       "      <td>Electronic check</td>\n",
       "      <td>29.85</td>\n",
       "      <td>29.85</td>\n",
       "      <td>0</td>\n",
       "    </tr>\n",
       "    <tr>\n",
       "      <th>1</th>\n",
       "      <td>5575-GNVDE</td>\n",
       "      <td>Male</td>\n",
       "      <td>0</td>\n",
       "      <td>0</td>\n",
       "      <td>0</td>\n",
       "      <td>34</td>\n",
       "      <td>1</td>\n",
       "      <td>0</td>\n",
       "      <td>DSL</td>\n",
       "      <td>1</td>\n",
       "      <td>...</td>\n",
       "      <td>1</td>\n",
       "      <td>0</td>\n",
       "      <td>0</td>\n",
       "      <td>0</td>\n",
       "      <td>One year</td>\n",
       "      <td>0</td>\n",
       "      <td>Mailed check</td>\n",
       "      <td>56.95</td>\n",
       "      <td>1889.5</td>\n",
       "      <td>0</td>\n",
       "    </tr>\n",
       "    <tr>\n",
       "      <th>2</th>\n",
       "      <td>3668-QPYBK</td>\n",
       "      <td>Male</td>\n",
       "      <td>0</td>\n",
       "      <td>0</td>\n",
       "      <td>0</td>\n",
       "      <td>2</td>\n",
       "      <td>1</td>\n",
       "      <td>0</td>\n",
       "      <td>DSL</td>\n",
       "      <td>1</td>\n",
       "      <td>...</td>\n",
       "      <td>0</td>\n",
       "      <td>0</td>\n",
       "      <td>0</td>\n",
       "      <td>0</td>\n",
       "      <td>Month-to-month</td>\n",
       "      <td>1</td>\n",
       "      <td>Mailed check</td>\n",
       "      <td>53.85</td>\n",
       "      <td>108.15</td>\n",
       "      <td>1</td>\n",
       "    </tr>\n",
       "    <tr>\n",
       "      <th>3</th>\n",
       "      <td>7795-CFOCW</td>\n",
       "      <td>Male</td>\n",
       "      <td>0</td>\n",
       "      <td>0</td>\n",
       "      <td>0</td>\n",
       "      <td>45</td>\n",
       "      <td>0</td>\n",
       "      <td>NaN</td>\n",
       "      <td>DSL</td>\n",
       "      <td>1</td>\n",
       "      <td>...</td>\n",
       "      <td>1</td>\n",
       "      <td>1</td>\n",
       "      <td>0</td>\n",
       "      <td>0</td>\n",
       "      <td>One year</td>\n",
       "      <td>0</td>\n",
       "      <td>Bank transfer (automatic)</td>\n",
       "      <td>42.30</td>\n",
       "      <td>1840.75</td>\n",
       "      <td>0</td>\n",
       "    </tr>\n",
       "    <tr>\n",
       "      <th>4</th>\n",
       "      <td>9237-HQITU</td>\n",
       "      <td>Female</td>\n",
       "      <td>0</td>\n",
       "      <td>0</td>\n",
       "      <td>0</td>\n",
       "      <td>2</td>\n",
       "      <td>1</td>\n",
       "      <td>0</td>\n",
       "      <td>Fiber optic</td>\n",
       "      <td>0</td>\n",
       "      <td>...</td>\n",
       "      <td>0</td>\n",
       "      <td>0</td>\n",
       "      <td>0</td>\n",
       "      <td>0</td>\n",
       "      <td>Month-to-month</td>\n",
       "      <td>1</td>\n",
       "      <td>Electronic check</td>\n",
       "      <td>70.70</td>\n",
       "      <td>151.65</td>\n",
       "      <td>1</td>\n",
       "    </tr>\n",
       "  </tbody>\n",
       "</table>\n",
       "<p>5 rows × 21 columns</p>\n",
       "</div>"
      ],
      "text/plain": [
       "   customerID  gender  SeniorCitizen  Partner  Dependents  tenure  \\\n",
       "0  7590-VHVEG  Female              0        1           0       1   \n",
       "1  5575-GNVDE    Male              0        0           0      34   \n",
       "2  3668-QPYBK    Male              0        0           0       2   \n",
       "3  7795-CFOCW    Male              0        0           0      45   \n",
       "4  9237-HQITU  Female              0        0           0       2   \n",
       "\n",
       "   PhoneService MultipleLines InternetService OnlineSecurity  ...   \\\n",
       "0             0           NaN             DSL              0  ...    \n",
       "1             1             0             DSL              1  ...    \n",
       "2             1             0             DSL              1  ...    \n",
       "3             0           NaN             DSL              1  ...    \n",
       "4             1             0     Fiber optic              0  ...    \n",
       "\n",
       "  DeviceProtection TechSupport StreamingTV StreamingMovies        Contract  \\\n",
       "0                0           0           0               0  Month-to-month   \n",
       "1                1           0           0               0        One year   \n",
       "2                0           0           0               0  Month-to-month   \n",
       "3                1           1           0               0        One year   \n",
       "4                0           0           0               0  Month-to-month   \n",
       "\n",
       "  PaperlessBilling              PaymentMethod MonthlyCharges  TotalCharges  \\\n",
       "0                1           Electronic check          29.85         29.85   \n",
       "1                0               Mailed check          56.95        1889.5   \n",
       "2                1               Mailed check          53.85        108.15   \n",
       "3                0  Bank transfer (automatic)          42.30       1840.75   \n",
       "4                1           Electronic check          70.70        151.65   \n",
       "\n",
       "  Churn  \n",
       "0     0  \n",
       "1     0  \n",
       "2     1  \n",
       "3     0  \n",
       "4     1  \n",
       "\n",
       "[5 rows x 21 columns]"
      ]
     },
     "execution_count": 45,
     "metadata": {},
     "output_type": "execute_result"
    }
   ],
   "source": [
    "df2.head()"
   ]
  },
  {
   "cell_type": "code",
   "execution_count": 46,
   "metadata": {},
   "outputs": [
    {
     "data": {
      "text/plain": [
       "0.2653698707936959"
      ]
     },
     "execution_count": 46,
     "metadata": {},
     "output_type": "execute_result"
    }
   ],
   "source": [
    "df2['Churn'].mean()"
   ]
  },
  {
   "cell_type": "markdown",
   "metadata": {},
   "source": [
    "The mean rate of churn for customers across all groups is 26.5%. If the rate of churn could be reduced, it would be better for long-term profits."
   ]
  },
  {
   "cell_type": "code",
   "execution_count": 6,
   "metadata": {
    "scrolled": true
   },
   "outputs": [
    {
     "name": "stdout",
     "output_type": "stream",
     "text": [
      "Percentage of Customer Base:\n",
      " Male      0.504756\n",
      "Female    0.495244\n",
      "Name: gender, dtype: float64 \n",
      "\n",
      "gender\n",
      "Female    0.269209\n",
      "Male      0.261603\n",
      "Name: Churn, dtype: float64 \n",
      "\n",
      "Percentage of Customer Base:\n",
      " 0    0.837853\n",
      "1    0.162147\n",
      "Name: SeniorCitizen, dtype: float64 \n",
      "\n",
      "SeniorCitizen\n",
      "0    0.236062\n",
      "1    0.416813\n",
      "Name: Churn, dtype: float64 \n",
      "\n",
      "Percentage of Customer Base:\n",
      " 0    0.516967\n",
      "1    0.483033\n",
      "Name: Partner, dtype: float64 \n",
      "\n",
      "Partner\n",
      "0    0.329580\n",
      "1    0.196649\n",
      "Name: Churn, dtype: float64 \n",
      "\n",
      "Percentage of Customer Base:\n",
      " 0    0.700412\n",
      "1    0.299588\n",
      "Name: Dependents, dtype: float64 \n",
      "\n",
      "Dependents\n",
      "0    0.312791\n",
      "1    0.154502\n",
      "Name: Churn, dtype: float64 \n",
      "\n",
      "Percentage of Customer Base:\n",
      " 1    0.903166\n",
      "0    0.096834\n",
      "Name: PhoneService, dtype: float64 \n",
      "\n",
      "PhoneService\n",
      "0    0.249267\n",
      "1    0.267096\n",
      "Name: Churn, dtype: float64 \n",
      "\n",
      "Percentage of Customer Base:\n",
      " 0      0.481329\n",
      "1      0.421837\n",
      "NaN    0.096834\n",
      "Name: MultipleLines, dtype: float64 \n",
      "\n",
      "MultipleLines\n",
      "0      0.250442\n",
      "1      0.286099\n",
      "NaN    0.249267\n",
      "Name: Churn, dtype: float64 \n",
      "\n",
      "Percentage of Customer Base:\n",
      " Fiber optic    0.439585\n",
      "DSL            0.343746\n",
      "No             0.216669\n",
      "Name: InternetService, dtype: float64 \n",
      "\n",
      "InternetService\n",
      "DSL            0.189591\n",
      "Fiber optic    0.418928\n",
      "No             0.074050\n",
      "Name: Churn, dtype: float64 \n",
      "\n",
      "Percentage of Customer Base:\n",
      " 0      0.496663\n",
      "1      0.286668\n",
      "NaN    0.216669\n",
      "Name: OnlineSecurity, dtype: float64 \n",
      "\n",
      "OnlineSecurity\n",
      "0      0.417667\n",
      "1      0.146112\n",
      "NaN    0.074050\n",
      "Name: Churn, dtype: float64 \n",
      "\n",
      "Percentage of Customer Base:\n",
      " 0      0.438450\n",
      "1      0.344881\n",
      "NaN    0.216669\n",
      "Name: OnlineBackup, dtype: float64 \n",
      "\n",
      "OnlineBackup\n",
      "0      0.399288\n",
      "1      0.215315\n",
      "NaN    0.074050\n",
      "Name: Churn, dtype: float64 \n",
      "\n",
      "Percentage of Customer Base:\n",
      " 0      0.439443\n",
      "1      0.343888\n",
      "NaN    0.216669\n",
      "Name: DeviceProtection, dtype: float64 \n",
      "\n",
      "DeviceProtection\n",
      "0      0.391276\n",
      "1      0.225021\n",
      "NaN    0.074050\n",
      "Name: Churn, dtype: float64 \n",
      "\n",
      "Percentage of Customer Base:\n",
      " 0      0.493114\n",
      "1      0.290217\n",
      "NaN    0.216669\n",
      "Name: TechSupport, dtype: float64 \n",
      "\n",
      "TechSupport\n",
      "0      0.416355\n",
      "1      0.151663\n",
      "NaN    0.074050\n",
      "Name: Churn, dtype: float64 \n",
      "\n",
      "Percentage of Customer Base:\n",
      " 0      0.398978\n",
      "1      0.384353\n",
      "NaN    0.216669\n",
      "Name: StreamingTV, dtype: float64 \n",
      "\n",
      "StreamingTV\n",
      "0      0.335231\n",
      "1      0.300702\n",
      "NaN    0.074050\n",
      "Name: Churn, dtype: float64 \n",
      "\n",
      "Percentage of Customer Base:\n",
      " 0      0.395428\n",
      "1      0.387903\n",
      "NaN    0.216669\n",
      "Name: StreamingMovies, dtype: float64 \n",
      "\n",
      "StreamingMovies\n",
      "0      0.336804\n",
      "1      0.299414\n",
      "NaN    0.074050\n",
      "Name: Churn, dtype: float64 \n",
      "\n",
      "Percentage of Customer Base:\n",
      " Month-to-month    0.550192\n",
      "Two year          0.240664\n",
      "One year          0.209144\n",
      "Name: Contract, dtype: float64 \n",
      "\n",
      "Contract\n",
      "Month-to-month    0.427097\n",
      "One year          0.112695\n",
      "Two year          0.028319\n",
      "Name: Churn, dtype: float64 \n",
      "\n",
      "Percentage of Customer Base:\n",
      " 1    0.592219\n",
      "0    0.407781\n",
      "Name: PaperlessBilling, dtype: float64 \n",
      "\n",
      "PaperlessBilling\n",
      "0    0.163301\n",
      "1    0.335651\n",
      "Name: Churn, dtype: float64 \n",
      "\n",
      "Percentage of Customer Base:\n",
      " Electronic check             0.335794\n",
      "Mailed check                 0.228880\n",
      "Bank transfer (automatic)    0.219225\n",
      "Credit card (automatic)      0.216101\n",
      "Name: PaymentMethod, dtype: float64 \n",
      "\n",
      "PaymentMethod\n",
      "Bank transfer (automatic)    0.167098\n",
      "Credit card (automatic)      0.152431\n",
      "Electronic check             0.452854\n",
      "Mailed check                 0.191067\n",
      "Name: Churn, dtype: float64 \n",
      "\n"
     ]
    }
   ],
   "source": [
    "categoricals = ['gender', 'SeniorCitizen', 'Partner', 'Dependents',\n",
    "                'PhoneService', 'MultipleLines', 'InternetService',\n",
    "                'OnlineSecurity', 'OnlineBackup', 'DeviceProtection',\n",
    "                'TechSupport', 'StreamingTV', 'StreamingMovies',\n",
    "                'Contract', 'PaperlessBilling', 'PaymentMethod']\n",
    "\n",
    "#Mean churn for each categorical from dataframe columns:\n",
    "\n",
    "for categorical in categoricals:\n",
    "    print('Percentage of Customer Base:\\n', df2[categorical].value_counts()/len(df2), '\\n')\n",
    "    print(df2.groupby(categorical)['Churn'].mean(), '\\n')"
   ]
  },
  {
   "cell_type": "code",
   "execution_count": 7,
   "metadata": {
    "scrolled": false
   },
   "outputs": [
    {
     "name": "stdout",
     "output_type": "stream",
     "text": [
      "gender : Female \n",
      " Ttest_1sampResult(statistic=0.51107576906447505, pvalue=0.60933035861584528)\n",
      "gender : Male \n",
      " Ttest_1sampResult(statistic=-0.51089260281216797, pvalue=0.60945799438930315)\n",
      "SeniorCitizen : 0 \n",
      " Ttest_1sampResult(statistic=-5.301186124510493, pvalue=1.1923445557695417e-07)\n",
      "SeniorCitizen : 1 \n",
      " Ttest_1sampResult(statistic=10.375685276314945, pvalue=3.6520418651627592e-24)\n",
      "Partner : 1 \n",
      " Ttest_1sampResult(statistic=-10.083080048864131, pvalue=1.402997973511985e-23)\n",
      "Partner : 0 \n",
      " Ttest_1sampResult(statistic=8.241361279732466, pvalue=2.3497313805702807e-16)\n",
      "Dependents : 0 \n",
      " Ttest_1sampResult(statistic=7.1831582785651937, pvalue=7.8291286475697813e-13)\n",
      "Dependents : 1 \n",
      " Ttest_1sampResult(statistic=-14.087008578225078, pvalue=3.8673174503229455e-43)\n",
      "PhoneService : 0 \n",
      " Ttest_1sampResult(statistic=-0.97141658730702818, pvalue=0.33168576863640864)\n",
      "PhoneService : 1 \n",
      " Ttest_1sampResult(statistic=0.31119824130056717, pvalue=0.75566011915217912)\n",
      "MultipleLines : NaN \n",
      " Ttest_1sampResult(statistic=-0.97141658730702818, pvalue=0.33168576863640864)\n",
      "MultipleLines : 0 \n",
      " Ttest_1sampResult(statistic=-2.0056875071037874, pvalue=0.044968948139189502)\n",
      "MultipleLines : 1 \n",
      " Ttest_1sampResult(statistic=2.4996616553233322, pvalue=0.012484751243971559)\n",
      "InternetService : DSL \n",
      " Ttest_1sampResult(statistic=-9.5103020429079539, pvalue=4.4162345295469047e-21)\n",
      "InternetService : Fiber optic \n",
      " Ttest_1sampResult(statistic=17.314801917765909, pvalue=3.4999101855825187e-64)\n",
      "InternetService : No \n",
      " Ttest_1sampResult(statistic=-28.532490278056699, pvalue=7.6210904334081882e-144)\n",
      "OnlineSecurity : 0 \n",
      " Ttest_1sampResult(statistic=18.261623963271965, pvalue=3.0980006022796943e-71)\n",
      "OnlineSecurity : 1 \n",
      " Ttest_1sampResult(statistic=-15.167169607314841, pvalue=2.7361986876154061e-49)\n",
      "OnlineSecurity : NaN \n",
      " Ttest_1sampResult(statistic=-28.532490278056699, pvalue=7.6210904334081882e-144)\n",
      "OnlineBackup : 1 \n",
      " Ttest_1sampResult(statistic=-6.0004854956791274, pvalue=2.2616878314933484e-09)\n",
      "OnlineBackup : 0 \n",
      " Ttest_1sampResult(statistic=15.192528978814384, pvalue=2.5058657759985174e-50)\n",
      "OnlineBackup : NaN \n",
      " Ttest_1sampResult(statistic=-28.532490278056699, pvalue=7.6210904334081882e-144)\n",
      "DeviceProtection : 0 \n",
      " Ttest_1sampResult(statistic=14.350136394428139, pvalue=2.9227618430400949e-45)\n",
      "DeviceProtection : 1 \n",
      " Ttest_1sampResult(statistic=-4.7541881133669559, pvalue=2.1093189893675475e-06)\n",
      "DeviceProtection : NaN \n",
      " Ttest_1sampResult(statistic=-28.532490278056699, pvalue=7.6210904334081882e-144)\n",
      "TechSupport : 0 \n",
      " Ttest_1sampResult(statistic=18.047499476175133, pvalue=1.1474729934259038e-69)\n",
      "TechSupport : 1 \n",
      " Ttest_1sampResult(statistic=-14.328305807000884, pvalue=1.9245877020574825e-44)\n",
      "TechSupport : NaN \n",
      " Ttest_1sampResult(statistic=-28.532490278056699, pvalue=7.6210904334081882e-144)\n",
      "StreamingTV : 0 \n",
      " Ttest_1sampResult(statistic=7.8434272411775821, pvalue=6.1764110225007486e-15)\n",
      "StreamingTV : 1 \n",
      " Ttest_1sampResult(statistic=4.0080490397621471, pvalue=6.2875715244173523e-05)\n",
      "StreamingTV : NaN \n",
      " Ttest_1sampResult(statistic=-28.532490278056699, pvalue=7.6210904334081882e-144)\n",
      "StreamingMovies : 0 \n",
      " Ttest_1sampResult(statistic=7.9750346823537832, pvalue=2.2032932089040665e-15)\n",
      "StreamingMovies : 1 \n",
      " Ttest_1sampResult(statistic=3.8845489806497184, pvalue=0.00010495395210383717)\n",
      "StreamingMovies : NaN \n",
      " Ttest_1sampResult(statistic=-28.532490278056699, pvalue=7.6210904334081882e-144)\n",
      "Contract : Month-to-month \n",
      " Ttest_1sampResult(statistic=20.349713530648003, pvalue=1.5145889637703644e-87)\n",
      "Contract : One year \n",
      " Ttest_1sampResult(statistic=-18.523875926430776, pvalue=5.0319302144221904e-69)\n",
      "Contract : Two year \n",
      " Ttest_1sampResult(statistic=-58.816788055055298, pvalue=0.0)\n",
      "PaperlessBilling : 1 \n",
      " Ttest_1sampResult(statistic=9.610902948088544, pvalue=1.2035900719288363e-21)\n",
      "PaperlessBilling : 0 \n",
      " Ttest_1sampResult(statistic=-14.795571138568011, pvalue=8.6177164576331279e-48)\n",
      "PaymentMethod : Electronic check \n",
      " Ttest_1sampResult(statistic=18.312928578074981, pvalue=3.6902704899846141e-70)\n",
      "PaymentMethod : Mailed check \n",
      " Ttest_1sampResult(statistic=-7.5858501925323543, pvalue=5.5524915877875577e-14)\n",
      "PaymentMethod : Bank transfer (automatic) \n",
      " Ttest_1sampResult(statistic=-10.347303227925268, pvalue=2.6275896580758162e-24)\n",
      "PaymentMethod : Credit card (automatic) \n",
      " Ttest_1sampResult(statistic=-12.254167365638578, pvalue=5.4241197386281826e-33)\n"
     ]
    }
   ],
   "source": [
    "for categorical in categoricals:\n",
    "    for category in df2[categorical].unique():\n",
    "        print(categorical, ':', category, '\\n', stats.ttest_1samp(df2[df2[categorical] == category].Churn, df2.Churn.mean()))"
   ]
  },
  {
   "cell_type": "code",
   "execution_count": 8,
   "metadata": {},
   "outputs": [
    {
     "name": "stdout",
     "output_type": "stream",
     "text": [
      "                  SeniorCitizen   Partner  Dependents    tenure  PhoneService  \\\n",
      "SeniorCitizen          1.000000  0.016479   -0.211185  0.016567      0.008576   \n",
      "Partner                0.016479  1.000000    0.452676  0.379697      0.017706   \n",
      "Dependents            -0.211185  0.452676    1.000000  0.159712     -0.001762   \n",
      "tenure                 0.016567  0.379697    0.159712  1.000000      0.008448   \n",
      "PhoneService           0.008576  0.017706   -0.001762  0.008448      1.000000   \n",
      "PaperlessBilling       0.156530 -0.014877   -0.111377  0.006152      0.016505   \n",
      "MonthlyCharges         0.220173  0.096848   -0.113890  0.247900      0.247398   \n",
      "Churn                  0.150889 -0.150448   -0.164221 -0.352229      0.011942   \n",
      "\n",
      "                  PaperlessBilling  MonthlyCharges     Churn  \n",
      "SeniorCitizen             0.156530        0.220173  0.150889  \n",
      "Partner                  -0.014877        0.096848 -0.150448  \n",
      "Dependents               -0.111377       -0.113890 -0.164221  \n",
      "tenure                    0.006152        0.247900 -0.352229  \n",
      "PhoneService              0.016505        0.247398  0.011942  \n",
      "PaperlessBilling          1.000000        0.352150  0.191825  \n",
      "MonthlyCharges            0.352150        1.000000  0.193356  \n",
      "Churn                     0.191825        0.193356  1.000000  \n"
     ]
    },
    {
     "data": {
      "image/png": "[encoded data removed]",
      "text/plain": [
       "<Figure size 432x288 with 2 Axes>"
      ]
     },
     "metadata": {},
     "output_type": "display_data"
    }
   ],
   "source": [
    "corrmat = df2.corr()\n",
    "print(corrmat)\n",
    "\n",
    "sns.heatmap(corrmat, vmin= -.4, vmax=1, square=True)\n",
    "plt.show()"
   ]
  },
  {
   "cell_type": "markdown",
   "metadata": {},
   "source": [
    "Th"
   ]
  },
  {
   "cell_type": "markdown",
   "metadata": {},
   "source": [
    "## Contract Type"
   ]
  },
  {
   "cell_type": "markdown",
   "metadata": {},
   "source": [
    "After comparing the results of a battery of t-tests on each category within the categorical variables, it is apparent that the group with the highest t-statistic is customers with a month-to-month contract. This group also makes up the largest proportion of the customer base of any of the groups in the data."
   ]
  },
  {
   "cell_type": "code",
   "execution_count": 9,
   "metadata": {
    "scrolled": true
   },
   "outputs": [
    {
     "data": {
      "text/plain": [
       "Month-to-month    0.550192\n",
       "Two year          0.240664\n",
       "One year          0.209144\n",
       "Name: Contract, dtype: float64"
      ]
     },
     "execution_count": 9,
     "metadata": {},
     "output_type": "execute_result"
    }
   ],
   "source": [
    "df2['Contract'].value_counts()/len(df2)"
   ]
  },
  {
   "cell_type": "code",
   "execution_count": 10,
   "metadata": {
    "scrolled": false
   },
   "outputs": [
    {
     "data": {
      "text/plain": [
       "Contract\n",
       "Month-to-month    0.427097\n",
       "One year          0.112695\n",
       "Two year          0.028319\n",
       "Name: Churn, dtype: float64"
      ]
     },
     "execution_count": 10,
     "metadata": {},
     "output_type": "execute_result"
    }
   ],
   "source": [
    "df2.groupby('Contract')['Churn'].mean()"
   ]
  },
  {
   "cell_type": "markdown",
   "metadata": {},
   "source": [
    "Month-to-month customers account for 55% the customer base, and their churn rate is 42.7%."
   ]
  },
  {
   "cell_type": "code",
   "execution_count": 11,
   "metadata": {},
   "outputs": [
    {
     "data": {
      "text/plain": [
       "Ttest_1sampResult(statistic=20.349713530648003, pvalue=1.5145889637703644e-87)"
      ]
     },
     "execution_count": 11,
     "metadata": {},
     "output_type": "execute_result"
    }
   ],
   "source": [
    "stats.ttest_1samp(df2[df2.Contract == 'Month-to-month'].Churn, df2.Churn.mean())"
   ]
  },
  {
   "cell_type": "markdown",
   "metadata": {},
   "source": [
    "### Customer Tenure and Contract Type"
   ]
  },
  {
   "cell_type": "markdown",
   "metadata": {},
   "source": [
    "Tenure and churn are not the same variable, but long tenure implies that the customer *hasn't* churned. Let's look at the churn rate for different tenure lengths."
   ]
  },
  {
   "cell_type": "code",
   "execution_count": 12,
   "metadata": {},
   "outputs": [
    {
     "data": {
      "text/plain": [
       "Contract\n",
       "Month-to-month    18.036645\n",
       "One year          42.044807\n",
       "Two year          56.735103\n",
       "Name: tenure, dtype: float64"
      ]
     },
     "execution_count": 12,
     "metadata": {},
     "output_type": "execute_result"
    }
   ],
   "source": [
    "df2.groupby('Contract')['tenure'].mean()"
   ]
  },
  {
   "cell_type": "code",
   "execution_count": 13,
   "metadata": {
    "scrolled": false
   },
   "outputs": [
    {
     "data": {
      "image/png": "[encoded data removed]",
      "text/plain": [
       "<Figure size 1080x576 with 1 Axes>"
      ]
     },
     "metadata": {},
     "output_type": "display_data"
    }
   ],
   "source": [
    "plt.rcParams['figure.figsize'] = 15, 8\n",
    "\n",
    "df2[df['Contract'] == 'Month-to-month']['tenure'].plot.hist(alpha=0.4, bins=20, density=True)\n",
    "df2[df['Contract'] == 'One year']['tenure'].plot.hist(alpha=0.4, bins=20, density=True)\n",
    "df2[df['Contract'] == 'Two year']['tenure'].plot.hist(alpha=0.4, bins=20, density=True)\n",
    "\n",
    "plt.legend(['Month-to-month', 'One Year', 'Two year'])\n",
    "\n",
    "plt.show()"
   ]
  },
  {
   "cell_type": "code",
   "execution_count": 14,
   "metadata": {
    "scrolled": false
   },
   "outputs": [
    {
     "data": {
      "text/plain": [
       "<matplotlib.axes._subplots.AxesSubplot at 0x110e8b6d8>"
      ]
     },
     "execution_count": 14,
     "metadata": {},
     "output_type": "execute_result"
    },
    {
     "data": {
      "image/png": "[encoded data removed]",
      "text/plain": [
       "<Figure size 1080x576 with 1 Axes>"
      ]
     },
     "metadata": {},
     "output_type": "display_data"
    }
   ],
   "source": [
    "sns.boxplot(x='Contract', y='tenure', data=df2)"
   ]
  },
  {
   "cell_type": "markdown",
   "metadata": {},
   "source": [
    "The histogram and boxplots above show that the average tenure for customers with month-to-month contracts is much lower than it is for customers with one- and two-year contracts."
   ]
  },
  {
   "cell_type": "markdown",
   "metadata": {},
   "source": [
    "### Tenure and Churn"
   ]
  },
  {
   "cell_type": "code",
   "execution_count": 15,
   "metadata": {
    "scrolled": false
   },
   "outputs": [
    {
     "data": {
      "image/png": "[encoded data removed]",
      "text/plain": [
       "<Figure size 1080x576 with 1 Axes>"
      ]
     },
     "metadata": {},
     "output_type": "display_data"
    }
   ],
   "source": [
    "plt.rcParams['figure.figsize'] = 15, 8\n",
    "\n",
    "sns.barplot(sorted(df2.tenure.unique()), df2.groupby('tenure')['Churn'].mean())\n",
    "plt.title('Mean Churn by Tenure in Months')\n",
    "plt.ylabel('Mean Churn')\n",
    "plt.xlabel('Tenure (Months)')\n",
    "\n",
    "plt.xticks(rotation=270)\n",
    "plt.show()"
   ]
  },
  {
   "cell_type": "code",
   "execution_count": 16,
   "metadata": {},
   "outputs": [
    {
     "data": {
      "text/plain": [
       "(-0.81779104168317107, 1.0550564327624254e-18)"
      ]
     },
     "execution_count": 16,
     "metadata": {},
     "output_type": "execute_result"
    }
   ],
   "source": [
    "stats.pearsonr(sorted(df2.tenure.unique()), df2.groupby('tenure')['Churn'].mean())"
   ]
  },
  {
   "cell_type": "markdown",
   "metadata": {},
   "source": [
    "There is a strong negative correlation between tenure and churn. Now let's revisit the mean churn rate for customers of different contract types:"
   ]
  },
  {
   "cell_type": "markdown",
   "metadata": {},
   "source": [
    "### Monthly Charges by Contract Type"
   ]
  },
  {
   "cell_type": "code",
   "execution_count": 17,
   "metadata": {},
   "outputs": [
    {
     "data": {
      "text/plain": [
       "64.76169246059922"
      ]
     },
     "execution_count": 17,
     "metadata": {},
     "output_type": "execute_result"
    }
   ],
   "source": [
    "df2['MonthlyCharges'].mean()"
   ]
  },
  {
   "cell_type": "code",
   "execution_count": 18,
   "metadata": {
    "scrolled": true
   },
   "outputs": [
    {
     "data": {
      "text/plain": [
       "Contract\n",
       "Month-to-month    66.398490\n",
       "One year          65.048608\n",
       "Two year          60.770413\n",
       "Name: MonthlyCharges, dtype: float64"
      ]
     },
     "execution_count": 18,
     "metadata": {},
     "output_type": "execute_result"
    }
   ],
   "source": [
    "df2.groupby('Contract')['MonthlyCharges'].mean()"
   ]
  },
  {
   "cell_type": "markdown",
   "metadata": {},
   "source": [
    "The average monthly charges for one-year contract customers are not much lower than monthly charges for month-to-month customers, so there may not be enough of an incentive for customers to apply for one-year contracts as opposed to month-to-month contracts."
   ]
  },
  {
   "cell_type": "markdown",
   "metadata": {},
   "source": [
    "### T-Tests for Churn by Contract Type"
   ]
  },
  {
   "cell_type": "code",
   "execution_count": 19,
   "metadata": {},
   "outputs": [
    {
     "data": {
      "text/plain": [
       "Ttest_indResult(statistic=22.690547349646753, pvalue=6.6946743141075091e-109)"
      ]
     },
     "execution_count": 19,
     "metadata": {},
     "output_type": "execute_result"
    }
   ],
   "source": [
    "#Month-to-month to One year\n",
    "\n",
    "stats.ttest_ind(df2[df2['Contract'] == 'Month-to-month']['Churn'], df2[df2['Contract'] == 'One year']['Churn'])"
   ]
  },
  {
   "cell_type": "code",
   "execution_count": 20,
   "metadata": {},
   "outputs": [
    {
     "data": {
      "text/plain": [
       "Ttest_indResult(statistic=32.397179500022013, pvalue=4.2567531983847149e-211)"
      ]
     },
     "execution_count": 20,
     "metadata": {},
     "output_type": "execute_result"
    }
   ],
   "source": [
    "#Month-to-month to Two year\n",
    "\n",
    "stats.ttest_ind(df2[df2['Contract'] == 'Month-to-month']['Churn'], df2[df2['Contract'] == 'Two year']['Churn'])"
   ]
  },
  {
   "cell_type": "code",
   "execution_count": 21,
   "metadata": {},
   "outputs": [
    {
     "data": {
      "text/plain": [
       "Ttest_indResult(statistic=9.5707261647739266, pvalue=2.0626005944237388e-21)"
      ]
     },
     "execution_count": 21,
     "metadata": {},
     "output_type": "execute_result"
    }
   ],
   "source": [
    "#One year to Two year\n",
    "\n",
    "stats.ttest_ind(df2[df2['Contract'] == 'One year']['Churn'], df2[df2['Contract'] == 'Two year']['Churn'])"
   ]
  },
  {
   "cell_type": "markdown",
   "metadata": {},
   "source": [
    "### T-tests for Monthly Charges by Contract Type"
   ]
  },
  {
   "cell_type": "code",
   "execution_count": 22,
   "metadata": {},
   "outputs": [
    {
     "data": {
      "text/plain": [
       "Ttest_indResult(statistic=1.5547454607730395, pvalue=0.12006589668516211)"
      ]
     },
     "execution_count": 22,
     "metadata": {},
     "output_type": "execute_result"
    }
   ],
   "source": [
    "#Month-to-month to One year\n",
    "\n",
    "stats.ttest_ind(df2[df2['Contract'] == 'Month-to-month']['MonthlyCharges'], df2[df2['Contract'] == 'One year']['MonthlyCharges'])"
   ]
  },
  {
   "cell_type": "code",
   "execution_count": 23,
   "metadata": {
    "scrolled": true
   },
   "outputs": [
    {
     "data": {
      "text/plain": [
       "Ttest_indResult(statistic=6.5510143844800659, pvalue=6.2284306871495439e-11)"
      ]
     },
     "execution_count": 23,
     "metadata": {},
     "output_type": "execute_result"
    }
   ],
   "source": [
    "#Month-to-month to Two year\n",
    "\n",
    "stats.ttest_ind(df2[df2['Contract'] == 'Month-to-month']['MonthlyCharges'], df2[df2['Contract'] == 'Two year']['MonthlyCharges'])"
   ]
  },
  {
   "cell_type": "code",
   "execution_count": 24,
   "metadata": {},
   "outputs": [
    {
     "data": {
      "text/plain": [
       "Ttest_indResult(statistic=3.5970603868489781, pvalue=0.00032675490010008383)"
      ]
     },
     "execution_count": 24,
     "metadata": {},
     "output_type": "execute_result"
    }
   ],
   "source": [
    "#One year to Two year\n",
    "\n",
    "stats.ttest_ind(df2[df2['Contract'] == 'One year']['MonthlyCharges'], df2[df2['Contract'] == 'Two year']['MonthlyCharges'])"
   ]
  },
  {
   "cell_type": "markdown",
   "metadata": {},
   "source": [
    "There appears to be a wide gap between the respective churn rates of customers with different contract types."
   ]
  },
  {
   "cell_type": "markdown",
   "metadata": {},
   "source": [
    "# Customer Churn Research Proposal"
   ]
  },
  {
   "cell_type": "markdown",
   "metadata": {},
   "source": [
    "Can churn be reduced by offering a discount on 1-year contracts to existing month-to-month customers?"
   ]
  },
  {
   "cell_type": "markdown",
   "metadata": {},
   "source": [
    "## Problem and Analysis"
   ]
  },
  {
   "cell_type": "markdown",
   "metadata": {},
   "source": [
    "At a current rate of 26.5%, our customer churn is too high, and we need to implement a more effective customer retention program. \n",
    "\n",
    "There are several variables in the customer data that appear to be related to churn, but contract type stands out as having the largest subset of customers with the highest rate of churn (55% of customers are on month-to-month contracts, and they have a 42.7% churn rate.)\n",
    "\n",
    "Customer contract type appears to be related both to customer tenure and to churn, with duration of tenure being much higher and churn being lower for one-year and two-year contracts than for month-to-month contracts. Month-to-month customers make up the majority of our customer base, and they also have the highest churn rate out of the three groups, so focusing on that group first would likely be best. If we could incentivize month-to-month customers to switch to one-year or two-year contracts, we might be able to reduce churn. \n",
    "\n",
    "As it stands, the average bill paid by month-to-month customers is \\$66.39/month, while the amount paid by one-year contract customers is \\$65.05/month, and the amount paid by two-year contract customers is \\$60.77/month. As it stands, month-to-month customers save \\$16.08/year if they switch to one-year contracts, and \\$67.44/year if they switch to two-year contracts. These rates of savings may not be enough to convince customers to switch to longer-term contracts."
   ]
  },
  {
   "cell_type": "markdown",
   "metadata": {},
   "source": [
    "## Hypothesis"
   ]
  },
  {
   "cell_type": "markdown",
   "metadata": {},
   "source": [
    "Offering discounts on longer-term contracts to existing month-to-month and one-year contract customers will result in a greater rate of switching to longer-term contracts, which will in turn decrease overall churn."
   ]
  },
  {
   "cell_type": "markdown",
   "metadata": {},
   "source": [
    "## Method of Testing and Key Metrics"
   ]
  },
  {
   "cell_type": "markdown",
   "metadata": {},
   "source": [
    "Current month-to-month customers will be randomly divided into two groups, which will be t-tested against one another to make sure the groups have roughly similar distributions. These two groups will be shown different versions of an email advertising one-year contracts. The control group will be shown the current email with unchanged rates, and the second group will be shown a new version of the email, advertising reduced monthly charges.\n",
    "\n",
    "The exact dollar amounts of the rate changes will be determined when the budget has been assessed.\n",
    "\n",
    "We will be observing the rate of churn itself, but since the expected outcome of the treatment is not the direct reduction of churn, but rather the change to a contract with a lower churn rate, we will evaluate success in two stages; first, on the rate at which customers with shorter-term contracts switch to longer-term contracts, and second, on whether these customers who have switched have a lower churn rate after their adjusted contracts have expired."
   ]
  },
  {
   "cell_type": "markdown",
   "metadata": {},
   "source": [
    "## Rollout Plan and Evaluation"
   ]
  },
  {
   "cell_type": "markdown",
   "metadata": {},
   "source": [
    "### Initial testing:\n",
    "\n",
    "Initially, treatment groups will start out much smaller than the control groups to minimize losses in case the incentives are ineffective. Emails are already sent out to customers advertising the longer-term plans. For this study, there will be two versions of that email, one with the same prices as before, one with reduced prices. The first wave of emails will be sent out, and conversion rate data will begin to be collected, as well as time between treatment and conversion, and churn rate for each group.\n",
    "\n",
    "### One Month:\n",
    "\n",
    "One month after the first batch of emails are sent, we will compare the rate at which customers in the month-to-month control group have signed up for longer-term plans compared with the rate for month-to-month customers in the treatment groups. The same comparison will be done for customers in the one-year control and treatment groups. If there is a statistically significant increase of 10% or more in customers who switch to longer-term contracts, the first part of the project will be considered a success, and the ad campaign will roll out for all customers. If there is not a statistically significant difference, observation will continue until the two month window.\n",
    "\n",
    "### Two Months:\n",
    "\n",
    "At this point, if there is not a significant change of 10% or more towards longer-term contracts in the treatment groups (in both parts of the study), the study will be terminated. If there is, the month-to-month treatment groups will be compared to one another to see if there is a difference in the rate of signups between conversions to one-year or two-year contracts. If there is a statistically significant difference of 10% or more, more resources will be put into advertising the more successful contract type, and the campaign will roll out to the entire customers base.\n",
    "\n",
    "### One-Year Follow-up:\n",
    "\n",
    "Assuming that the one-year contract won out over the two-year contract in the month-to-month treatment groups, this is the critical point at which churn will be measured, since the year-long contracts will be expiring. If customers who switched plans show an increased rate of churn, or if they return to month-to-month contracts, the changes in plan pricing will be reevaluated."
   ]
  },
  {
   "cell_type": "markdown",
   "metadata": {},
   "source": [
    "# Further Testing"
   ]
  },
  {
   "cell_type": "markdown",
   "metadata": {},
   "source": [
    "Customer contract type is not the only variable where there is a large discrepency in churn between different categories; type of internet service also had a wide gap between customers with DSL (low churn) and customers with fiber optic internet (high churn). Additionally, customers who had selected automatic payment options (bank transfer and credit card payments) had a lower churn rate than those who paid with mailed-in checks or electronic checks. The differences in these variables warrant further research."
   ]
  },
  {
   "cell_type": "markdown",
   "metadata": {},
   "source": [
    "## Internet Service"
   ]
  },
  {
   "cell_type": "markdown",
   "metadata": {},
   "source": [
    "### Rate of Churn by Type of Internet Service"
   ]
  },
  {
   "cell_type": "code",
   "execution_count": 25,
   "metadata": {},
   "outputs": [
    {
     "data": {
      "text/plain": [
       "InternetService\n",
       "DSL            0.189591\n",
       "Fiber optic    0.418928\n",
       "No             0.074050\n",
       "Name: Churn, dtype: float64"
      ]
     },
     "execution_count": 25,
     "metadata": {},
     "output_type": "execute_result"
    }
   ],
   "source": [
    "df2.groupby('InternetService')['Churn'].mean()"
   ]
  },
  {
   "cell_type": "code",
   "execution_count": 26,
   "metadata": {},
   "outputs": [
    {
     "data": {
      "text/plain": [
       "Fiber optic    0.439585\n",
       "DSL            0.343746\n",
       "No             0.216669\n",
       "Name: InternetService, dtype: float64"
      ]
     },
     "execution_count": 26,
     "metadata": {},
     "output_type": "execute_result"
    }
   ],
   "source": [
    "df2['InternetService'].value_counts()/len(df2)"
   ]
  },
  {
   "cell_type": "markdown",
   "metadata": {},
   "source": [
    "Customers with fiber optic have a much higher rate of churn than customers with DSL. Intriguingly, customers with no internet service through this company have the lowest rate of churn."
   ]
  },
  {
   "cell_type": "code",
   "execution_count": 27,
   "metadata": {},
   "outputs": [
    {
     "data": {
      "text/plain": [
       "OnlineSecurity\n",
       "0      0.417667\n",
       "1      0.146112\n",
       "NaN    0.074050\n",
       "Name: Churn, dtype: float64"
      ]
     },
     "execution_count": 27,
     "metadata": {},
     "output_type": "execute_result"
    }
   ],
   "source": [
    "df2.groupby('OnlineSecurity')['Churn'].mean()"
   ]
  },
  {
   "cell_type": "markdown",
   "metadata": {},
   "source": [
    "### Monthly Charges by Type of Internet Service"
   ]
  },
  {
   "cell_type": "code",
   "execution_count": 28,
   "metadata": {
    "scrolled": true
   },
   "outputs": [
    {
     "data": {
      "text/plain": [
       "InternetService\n",
       "DSL            58.102169\n",
       "Fiber optic    91.500129\n",
       "No             21.079194\n",
       "Name: MonthlyCharges, dtype: float64"
      ]
     },
     "execution_count": 28,
     "metadata": {},
     "output_type": "execute_result"
    }
   ],
   "source": [
    "df2.groupby('InternetService')['MonthlyCharges'].mean()"
   ]
  },
  {
   "cell_type": "code",
   "execution_count": 29,
   "metadata": {
    "scrolled": true
   },
   "outputs": [
    {
     "data": {
      "text/plain": [
       "OnlineSecurity\n",
       "0      75.693067\n",
       "1      78.838732\n",
       "NaN    21.079194\n",
       "Name: MonthlyCharges, dtype: float64"
      ]
     },
     "execution_count": 29,
     "metadata": {},
     "output_type": "execute_result"
    }
   ],
   "source": [
    "df2.groupby('OnlineSecurity')['MonthlyCharges'].mean()"
   ]
  },
  {
   "cell_type": "markdown",
   "metadata": {},
   "source": [
    "### Customer Tenure and Internet Service Type"
   ]
  },
  {
   "cell_type": "code",
   "execution_count": 30,
   "metadata": {
    "scrolled": true
   },
   "outputs": [
    {
     "data": {
      "image/png": "[encoded data removed]",
      "text/plain": [
       "<Figure size 1080x576 with 1 Axes>"
      ]
     },
     "metadata": {},
     "output_type": "display_data"
    }
   ],
   "source": [
    "plt.rcParams['figure.figsize'] = 15, 8\n",
    "\n",
    "df2[df['InternetService'] == 'No']['tenure'].plot.hist(alpha=0.4, bins=20, density=True)\n",
    "df2[df['InternetService'] == 'DSL']['tenure'].plot.hist(alpha=0.4, bins=20, density=True)\n",
    "df2[df['InternetService'] == 'Fiber optic']['tenure'].plot.hist(alpha=0.4, bins=20, density=True)\n",
    "\n",
    "plt.legend(['No', 'DSL', 'Fiber optic'])\n",
    "\n",
    "plt.show()"
   ]
  },
  {
   "cell_type": "markdown",
   "metadata": {},
   "source": [
    "### Comparison of Mean Churn for Contract Type and Internet Service Type"
   ]
  },
  {
   "cell_type": "code",
   "execution_count": 42,
   "metadata": {},
   "outputs": [
    {
     "data": {
      "image/png": "[encoded data removed]",
      "text/plain": [
       "<Figure size 1080x576 with 1 Axes>"
      ]
     },
     "metadata": {},
     "output_type": "display_data"
    }
   ],
   "source": [
    "ax = sns.boxplot(x=\"Contract\", y=\"tenure\", hue=\"InternetService\", data=df2, palette=\"Set3\")\n",
    "plt.show()"
   ]
  },
  {
   "cell_type": "markdown",
   "metadata": {},
   "source": [
    "### T-Tests for Churn by Internet Service Type"
   ]
  },
  {
   "cell_type": "code",
   "execution_count": 33,
   "metadata": {},
   "outputs": [
    {
     "data": {
      "text/plain": [
       "Ttest_indResult(statistic=-10.169981213495749, pvalue=5.3242892631546428e-24)"
      ]
     },
     "execution_count": 33,
     "metadata": {},
     "output_type": "execute_result"
    }
   ],
   "source": [
    "#No Internet to DSL\n",
    "\n",
    "stats.ttest_ind(df2[df2['InternetService'] == 'No']['Churn'], df2[df2['InternetService'] == 'DSL']['Churn'])"
   ]
  },
  {
   "cell_type": "code",
   "execution_count": 34,
   "metadata": {},
   "outputs": [
    {
     "data": {
      "text/plain": [
       "Ttest_indResult(statistic=-25.581955989532911, pvalue=4.1527946508190689e-135)"
      ]
     },
     "execution_count": 34,
     "metadata": {},
     "output_type": "execute_result"
    }
   ],
   "source": [
    "#No Internet to Fiber Optic\n",
    "\n",
    "stats.ttest_ind(df2[df2['InternetService'] == 'No']['Churn'], df2[df2['InternetService'] == 'Fiber optic']['Churn'])"
   ]
  },
  {
   "cell_type": "code",
   "execution_count": 35,
   "metadata": {},
   "outputs": [
    {
     "data": {
      "text/plain": [
       "Ttest_indResult(statistic=-18.71090974627063, pvalue=8.6025368857087977e-76)"
      ]
     },
     "execution_count": 35,
     "metadata": {},
     "output_type": "execute_result"
    }
   ],
   "source": [
    "#DSL to Fiber optic\n",
    "\n",
    "stats.ttest_ind(df2[df2['InternetService'] == 'DSL']['Churn'], df2[df2['InternetService'] == 'Fiber optic']['Churn'])"
   ]
  },
  {
   "cell_type": "markdown",
   "metadata": {
    "slideshow": {
     "slide_type": "slide"
    }
   },
   "source": [
    "### T-tests for Monthly Charges by Internet Service Type"
   ]
  },
  {
   "cell_type": "code",
   "execution_count": 36,
   "metadata": {},
   "outputs": [
    {
     "data": {
      "text/plain": [
       "Ttest_indResult(statistic=-88.452380011791547, pvalue=0.0)"
      ]
     },
     "execution_count": 36,
     "metadata": {},
     "output_type": "execute_result"
    }
   ],
   "source": [
    "#No Internet to DSL\n",
    "\n",
    "stats.ttest_ind(df2[df2['InternetService'] == 'No']['MonthlyCharges'], df2[df2['InternetService'] == 'DSL']['MonthlyCharges'])"
   ]
  },
  {
   "cell_type": "code",
   "execution_count": 37,
   "metadata": {
    "scrolled": true
   },
   "outputs": [
    {
     "data": {
      "text/plain": [
       "Ttest_indResult(statistic=-215.68217834816946, pvalue=0.0)"
      ]
     },
     "execution_count": 37,
     "metadata": {},
     "output_type": "execute_result"
    }
   ],
   "source": [
    "#No Internet to Fiber Optic\n",
    "\n",
    "stats.ttest_ind(df2[df2['InternetService'] == 'No']['MonthlyCharges'], df2[df2['InternetService'] == 'Fiber optic']['MonthlyCharges'])"
   ]
  },
  {
   "cell_type": "code",
   "execution_count": 38,
   "metadata": {},
   "outputs": [
    {
     "data": {
      "text/plain": [
       "Ttest_indResult(statistic=-85.770164471328229, pvalue=0.0)"
      ]
     },
     "execution_count": 38,
     "metadata": {},
     "output_type": "execute_result"
    }
   ],
   "source": [
    "#DSL to Fiber optic\n",
    "\n",
    "stats.ttest_ind(df2[df2['InternetService'] == 'DSL']['MonthlyCharges'], df2[df2['InternetService'] == 'Fiber optic']['MonthlyCharges'])"
   ]
  },
  {
   "cell_type": "markdown",
   "metadata": {},
   "source": [
    "## Mosaic Plots"
   ]
  },
  {
   "cell_type": "code",
   "execution_count": 39,
   "metadata": {
    "scrolled": false
   },
   "outputs": [
    {
     "data": {
      "image/png": "[encoded data removed]",
      "text/plain": [
       "<Figure size 1080x576 with 3 Axes>"
      ]
     },
     "metadata": {},
     "output_type": "display_data"
    }
   ],
   "source": [
    "plt.rcParams['figure.figsize'] = 15, 8\n",
    "\n",
    "mosaic(data=df2.loc[:, ['Contract', 'InternetService']], index=['Contract', 'InternetService'], title='Total Customers by Contract Type vs. Internet Service Type', gap=0.01)\n",
    "plt.show()"
   ]
  },
  {
   "cell_type": "code",
   "execution_count": 40,
   "metadata": {
    "scrolled": false
   },
   "outputs": [
    {
     "data": {
      "image/png": "[encoded data removed]",
      "text/plain": [
       "<Figure size 1080x576 with 3 Axes>"
      ]
     },
     "metadata": {},
     "output_type": "display_data"
    }
   ],
   "source": [
    "plt.rcParams['figure.figsize'] = 15, 8\n",
    "\n",
    "mosaic(data=df2.loc[:, ['Contract', 'PaymentMethod']], index=['Contract', 'PaymentMethod'], title='Total Customers by Contract Type vs. Payment Method', gap=0.01)\n",
    "plt.show()"
   ]
  },
  {
   "cell_type": "markdown",
   "metadata": {},
   "source": [
    "# Sources:\n",
    "\n",
    "Kaggle dataset (from IBM):\n",
    "https://www.kaggle.com/blastchar/telco-customer-churn\n",
    "\n",
    "Mosaic Plots:\n",
    "https://medium.com/@LSchultebraucks/data-visualization-with-python-55ca70d108f2"
   ]
  }
 ],
 "metadata": {
  "kernelspec": {
   "display_name": "Python 3",
   "language": "python",
   "name": "python3"
  },
  "language_info": {
   "codemirror_mode": {
    "name": "ipython",
    "version": 3
   },
   "file_extension": ".py",
   "mimetype": "text/x-python",
   "name": "python",
   "nbconvert_exporter": "python",
   "pygments_lexer": "ipython3",
   "version": "3.6.5"
  },
  "toc": {
   "base_numbering": 1,
   "nav_menu": {},
   "number_sections": true,
   "sideBar": true,
   "skip_h1_title": false,
   "title_cell": "Table of Contents",
   "title_sidebar": "Contents",
   "toc_cell": false,
   "toc_position": {
    "height": "calc(100% - 180px)",
    "left": "10px",
    "top": "150px",
    "width": "172px"
   },
   "toc_section_display": true,
   "toc_window_display": true
  }
 },
 "nbformat": 4,
 "nbformat_minor": 2
}
